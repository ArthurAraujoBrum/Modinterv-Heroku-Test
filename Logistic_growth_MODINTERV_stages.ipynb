{
  "nbformat": 4,
  "nbformat_minor": 0,
  "metadata": {
    "colab": {
      "name": "Logistic_growth_MODINTERV_stages.ipynb",
      "provenance": [],
      "collapsed_sections": []
    },
    "kernelspec": {
      "name": "python3",
      "display_name": "Python 3"
    }
  },
  "cells": [
    {
      "cell_type": "code",
      "metadata": {
        "id": "KOjC4Se2co3Z"
      },
      "source": [
        "import numpy as np\n",
        "import pandas as pd\n",
        "import matplotlib.pyplot as plt\n",
        "plt.style.use('ggplot')\n",
        "\n",
        "%matplotlib inline"
      ],
      "execution_count": null,
      "outputs": []
    },
    {
      "cell_type": "code",
      "metadata": {
        "id": "iCrrvwdtcq5t"
      },
      "source": [
        "def Logistic(t,K,r,C0):\n",
        "  return K/(1+(K/C0-1)*np.exp(-r*t))\n",
        "\n",
        "\n",
        "def tc(K,r,C0):\n",
        "  return (1/r)*np.log(K/C0-1)\n",
        "\n",
        "def tjp(K,r,C0):\n",
        "  return (1/r)*np.log((K/C0-1)/(2-(3)**(1/2)))\n",
        "\n",
        "def tjm(K,r,C0):\n",
        "  return (1/r)*np.log((K/C0-1)/(2+(3)**(1/2)))\n",
        "\n",
        "def ts(K,r,C0):\n",
        "  return (1/r)*np.log((K/C0-1)/(5-2*(6)**(1/2)))\n"
      ],
      "execution_count": null,
      "outputs": []
    },
    {
      "cell_type": "code",
      "metadata": {
        "id": "gNRUzpm-cvHt"
      },
      "source": [
        "List = []\n",
        "for i in range(500):\n",
        "  tf = np.random.randint(20,50)\n",
        "  r = 0.02*np.random.random_sample() + 0.3\n",
        "  K = 10000 + 2000*np.random.random_sample()\n",
        "  C0=1 \n",
        "  Tjm = round(tjm(K,r,C0))\n",
        "  Tc = round(tc(K,r,C0))\n",
        "  Tjp = round(tjp(K,r,C0))\n",
        "  Ts = round(ts(K,r,C0))\n",
        "  Cf = Logistic(tf,K,r,C0)\n",
        "  Ch = Logistic(tf/2,K,r,C0)\n",
        "  Cq = Logistic(0.25*tf,K,r,C0)\n",
        "  C3q = Logistic(0.75*tf,K,r,C0)\n",
        "  if tf < Tjm:\n",
        "    sit = 'Aceleração crescente'\n",
        "  if tf>=Tjm and tf<Tc:\n",
        "    sit = 'Aceleração decrescente'\n",
        "  if tf>=Tc and tf<Tjp:\n",
        "    sit = 'Desaceleração crescente'\u001c\n",
        "  if tf>=Tjp and tf<Ts:\n",
        "    sit = 'Transição para saturação'\n",
        "  if tf >= Ts:\n",
        "    sit = 'Saturação'\n",
        "  #print(K, r, Tc, round(tf/2), Ch/Cf, tf, Cf/Cf, sit)\n",
        "  #print(Tjm,Tc,Tjp,Ts, tf, Cq/Cf, Ch/Cf, C3q/Cf, sit)\n",
        "  element_list = {'quarter': Cq/Cf, 'half': Ch/Cf, 'third-quarter': C3q/Cf, 'sit': sit}\n",
        "  List.append(element_list)"
      ],
      "execution_count": null,
      "outputs": []
    },
    {
      "cell_type": "code",
      "metadata": {
        "id": "dN_3URpEek4s",
        "colab": {
          "base_uri": "https://localhost:8080/",
          "height": 136
        },
        "outputId": "12cb0edb-1682-4965-fa74-017d95092453"
      },
      "source": [
        "df = pd.DataFrame(List)\n",
        "print(df['sit'].value_counts())\n",
        "print(df.shape)"
      ],
      "execution_count": null,
      "outputs": [
        {
          "output_type": "stream",
          "text": [
            "Saturação                   212\n",
            "Aceleração crescente         96\n",
            "Aceleração decrescente       70\n",
            "Desaceleração crescente      70\n",
            "Transição para saturação     52\n",
            "Name: sit, dtype: int64\n",
            "(500, 4)\n"
          ],
          "name": "stdout"
        }
      ]
    },
    {
      "cell_type": "code",
      "metadata": {
        "id": "zJNUB8hXwlsE"
      },
      "source": [
        "feature_names = ['quarter','half', 'third-quarter']\n",
        "X = df[feature_names]\n",
        "y = df['sit']"
      ],
      "execution_count": null,
      "outputs": []
    },
    {
      "cell_type": "code",
      "metadata": {
        "id": "BqbaYJQGwnwc"
      },
      "source": [
        "from sklearn.model_selection import train_test_split\n",
        "\n",
        "X_train, X_test, y_train, y_test = train_test_split(X, y, random_state=0)"
      ],
      "execution_count": null,
      "outputs": []
    },
    {
      "cell_type": "code",
      "metadata": {
        "id": "-NGl5_59wtdh",
        "colab": {
          "base_uri": "https://localhost:8080/",
          "height": 51
        },
        "outputId": "bbf5c221-88f0-4f48-d46a-76bc9b3166e6"
      },
      "source": [
        "from sklearn.linear_model import LogisticRegression\n",
        "logreg = LogisticRegression()\n",
        "logreg.fit(X_train, y_train)\n",
        "print('Accuracy of Logistic regression classifier on training set: {:.2f}'\n",
        "     .format(logreg.score(X_train, y_train)))\n",
        "print('Accuracy of Logistic regression classifier on test set: {:.2f}'\n",
        "     .format(logreg.score(X_test, y_test)))"
      ],
      "execution_count": null,
      "outputs": [
        {
          "output_type": "stream",
          "text": [
            "Accuracy of Logistic regression classifier on training set: 0.63\n",
            "Accuracy of Logistic regression classifier on test set: 0.56\n"
          ],
          "name": "stdout"
        }
      ]
    },
    {
      "cell_type": "code",
      "metadata": {
        "id": "VvKHUHDNwzdc",
        "colab": {
          "base_uri": "https://localhost:8080/",
          "height": 51
        },
        "outputId": "586145ac-3dca-45d5-9c5d-6a3bda220e4a"
      },
      "source": [
        "from sklearn.tree import DecisionTreeClassifier\n",
        "clf = DecisionTreeClassifier().fit(X_train, y_train)\n",
        "print('Accuracy of Decision Tree classifier on training set: {:.2f}'\n",
        "     .format(clf.score(X_train, y_train)))\n",
        "print('Accuracy of Decision Tree classifier on test set: {:.2f}'\n",
        "     .format(clf.score(X_test, y_test)))"
      ],
      "execution_count": null,
      "outputs": [
        {
          "output_type": "stream",
          "text": [
            "Accuracy of Decision Tree classifier on training set: 1.00\n",
            "Accuracy of Decision Tree classifier on test set: 0.98\n"
          ],
          "name": "stdout"
        }
      ]
    },
    {
      "cell_type": "code",
      "metadata": {
        "id": "ae1C9Exqw7tG",
        "colab": {
          "base_uri": "https://localhost:8080/",
          "height": 51
        },
        "outputId": "898516c5-7ecc-41c4-82ea-02c3b38cee4b"
      },
      "source": [
        "from sklearn.neighbors import KNeighborsClassifier\n",
        "knn = KNeighborsClassifier()\n",
        "knn.fit(X_train, y_train)\n",
        "print('Accuracy of K-NN classifier on training set: {:.2f}'\n",
        "     .format(knn.score(X_train, y_train)))\n",
        "print('Accuracy of K-NN classifier on test set: {:.2f}'\n",
        "     .format(knn.score(X_test, y_test)))"
      ],
      "execution_count": null,
      "outputs": [
        {
          "output_type": "stream",
          "text": [
            "Accuracy of K-NN classifier on training set: 0.98\n",
            "Accuracy of K-NN classifier on test set: 0.98\n"
          ],
          "name": "stdout"
        }
      ]
    },
    {
      "cell_type": "code",
      "metadata": {
        "id": "mMCMh3CT4U9P",
        "colab": {
          "base_uri": "https://localhost:8080/",
          "height": 306
        },
        "outputId": "5961e177-dffc-4bfb-c3da-91ea61e736ee"
      },
      "source": [
        "from sklearn.metrics import classification_report\n",
        "from sklearn.metrics import confusion_matrix\n",
        "pred = knn.predict(X_test)\n",
        "print(confusion_matrix(y_test, pred))\n",
        "print(classification_report(y_test, pred))"
      ],
      "execution_count": null,
      "outputs": [
        {
          "output_type": "stream",
          "text": [
            "[[30  1  0  0  0]\n",
            " [ 0 21  0  0  0]\n",
            " [ 0  0 23  0  0]\n",
            " [ 0  0  0 39  0]\n",
            " [ 0  0  0  2  9]]\n",
            "                          precision    recall  f1-score   support\n",
            "\n",
            "    Aceleração crescente       1.00      0.97      0.98        31\n",
            "  Aceleração decrescente       0.95      1.00      0.98        21\n",
            " Desaceleração crescente       1.00      1.00      1.00        23\n",
            "               Saturação       0.95      1.00      0.97        39\n",
            "Transição para saturação       1.00      0.82      0.90        11\n",
            "\n",
            "                accuracy                           0.98       125\n",
            "               macro avg       0.98      0.96      0.97       125\n",
            "            weighted avg       0.98      0.98      0.98       125\n",
            "\n"
          ],
          "name": "stdout"
        }
      ]
    },
    {
      "cell_type": "code",
      "metadata": {
        "id": "UMe8MLyo4tr-",
        "colab": {
          "base_uri": "https://localhost:8080/",
          "height": 306
        },
        "outputId": "97f2d0fe-291a-406e-dfde-b866a347d3f0"
      },
      "source": [
        "from sklearn.metrics import classification_report\n",
        "from sklearn.metrics import confusion_matrix\n",
        "pred = clf.predict(X_test)\n",
        "print(confusion_matrix(y_test, pred))\n",
        "print(classification_report(y_test, pred))"
      ],
      "execution_count": null,
      "outputs": [
        {
          "output_type": "stream",
          "text": [
            "[[30  1  0  0  0]\n",
            " [ 1 20  0  0  0]\n",
            " [ 0  0 23  0  0]\n",
            " [ 0  0  0 39  0]\n",
            " [ 0  0  0  1 10]]\n",
            "                          precision    recall  f1-score   support\n",
            "\n",
            "    Aceleração crescente       0.97      0.97      0.97        31\n",
            "  Aceleração decrescente       0.95      0.95      0.95        21\n",
            " Desaceleração crescente       1.00      1.00      1.00        23\n",
            "               Saturação       0.97      1.00      0.99        39\n",
            "Transição para saturação       1.00      0.91      0.95        11\n",
            "\n",
            "                accuracy                           0.98       125\n",
            "               macro avg       0.98      0.97      0.97       125\n",
            "            weighted avg       0.98      0.98      0.98       125\n",
            "\n"
          ],
          "name": "stdout"
        }
      ]
    },
    {
      "cell_type": "code",
      "metadata": {
        "id": "ksxG3oFBmun-",
        "colab": {
          "base_uri": "https://localhost:8080/",
          "height": 51
        },
        "outputId": "bc979b4d-1933-4538-8159-9ee5aac4bcc2"
      },
      "source": [
        "print(np.random.random_sample())\n",
        "\n",
        "print(np.random.randn())"
      ],
      "execution_count": null,
      "outputs": [
        {
          "output_type": "stream",
          "text": [
            "0.10044103542628835\n",
            "-1.0009761802547297\n"
          ],
          "name": "stdout"
        }
      ]
    },
    {
      "cell_type": "code",
      "metadata": {
        "id": "MgGXD1k9sYHD",
        "colab": {
          "base_uri": "https://localhost:8080/",
          "height": 34
        },
        "outputId": "bf33655d-a1cf-426c-aabf-42670cc660cb"
      },
      "source": [
        "print(tc(10000,0.3,1))"
      ],
      "execution_count": null,
      "outputs": [
        {
          "output_type": "stream",
          "text": [
            "30.70080122325283\n"
          ],
          "name": "stdout"
        }
      ]
    }
  ]
}